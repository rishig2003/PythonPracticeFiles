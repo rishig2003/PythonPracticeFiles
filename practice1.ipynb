{
 "cells": [
  {
   "cell_type": "code",
   "execution_count": 5,
   "metadata": {},
   "outputs": [],
   "source": [
    "lst=[[5,6,7],[8,3,3],[4,5,9]]"
   ]
  },
  {
   "cell_type": "code",
   "execution_count": 6,
   "metadata": {},
   "outputs": [],
   "source": [
    "dic={}"
   ]
  },
  {
   "cell_type": "code",
   "execution_count": 7,
   "metadata": {},
   "outputs": [
    {
     "name": "stdout",
     "output_type": "stream",
     "text": [
      "{1: [5, 6, 7], 2: [8, 3, 3], 3: [4, 5, 9]}\n"
     ]
    }
   ],
   "source": [
    "for i in range(len(lst)):\n",
    "    dic[i+1]=lst[i]\n",
    "print(dic)"
   ]
  },
  {
   "cell_type": "code",
   "execution_count": 29,
   "metadata": {},
   "outputs": [
    {
     "name": "stdout",
     "output_type": "stream",
     "text": [
      "{1: [5, 8, 4], 2: [6, 3, 5], 3: [7, 3, 9]}\n"
     ]
    }
   ],
   "source": [
    "dic1={}\n",
    "for i in range(len(lst)):\n",
    "    l=[]\n",
    "    for j in range(len(lst[i])):\n",
    "      l.append(lst[j][i])\n",
    "    dic1[i+1]=l\n",
    "print(dic1)\n",
    "    "
   ]
  },
  {
   "cell_type": "code",
   "execution_count": 48,
   "metadata": {},
   "outputs": [
    {
     "name": "stdout",
     "output_type": "stream",
     "text": [
      "abcdce\n",
      "ecfgdc\n",
      "abcd\n",
      "abcdecfgd\n",
      "abcfgd\n",
      "e\n",
      "ecde\n",
      "ecfgde\n"
     ]
    }
   ],
   "source": [
    "s1=input()\n",
    "s2=input()\n",
    "S1=''\n",
    "for i in s1:\n",
    "    if i not in S1:\n",
    "        S1+=i\n",
    "S2=''\n",
    "for i in s2:\n",
    "    if i not in S2:\n",
    "        S2+=i\n",
    "lst=[]\n",
    "for j in S1:\n",
    "    if j in S2:\n",
    "        lst.append(j)\n",
    "ans1=''\n",
    "ans2=''\n",
    "ls1=[]\n",
    "ls2=[]\n",
    "for k in lst:\n",
    "    x=S1.index(k)\n",
    "    y=S2.index(k)\n",
    "    ans1=S1[0:x]+k+S2[y+1:]\n",
    "    ans2=S2[0:y]+k+S1[x+1:]\n",
    "    ls1.append(ans1)\n",
    "    ls2.append(ans2)\n",
    "Lst=ls1+ls2\n",
    "Lst.sort()\n",
    "for j in Lst:\n",
    "    print(j)\n",
    "  \n",
    "    \n"
   ]
  },
  {
   "cell_type": "code",
   "execution_count": 2,
   "metadata": {},
   "outputs": [
    {
     "name": "stdout",
     "output_type": "stream",
     "text": [
      "4\n",
      "1\n",
      "7\n",
      "8\n",
      "9\n",
      "4.15\n"
     ]
    }
   ],
   "source": [
    "n=int(input())\n",
    "lst=[]\n",
    "for i in range(n):\n",
    "    x=int(input())\n",
    "    lst.append(x)\n",
    "\n",
    "L=[]\n",
    "for i in range(1,n+1):\n",
    "    s=0\n",
    "    l=[]\n",
    "    for j in range(i):\n",
    "        s+=lst[j]\n",
    "        l.append(lst[j])\n",
    "    avg=s/len(l)\n",
    "    L.append(avg)\n",
    "S=0\n",
    "for i in L:\n",
    "    S+=i\n",
    "    Avg=S/len(L)\n",
    "print(\"{:0.2f}\".format(Avg))    \n",
    "    \n",
    "    \n",
    "        "
   ]
  },
  {
   "cell_type": "code",
   "execution_count": 10,
   "metadata": {},
   "outputs": [
    {
     "name": "stdout",
     "output_type": "stream",
     "text": [
      "aacdb\n",
      "gafd\n",
      "fgcb\n"
     ]
    }
   ],
   "source": [
    "import random\n",
    "S1=input()\n",
    "S2=input()\n",
    "L1=list(S1)\n",
    "L2=list(S2)\n",
    "set1=set(L1)\n",
    "set2=set(S2)\n",
    "Set=set1.symmetric_difference(set2)\n",
    "lst_final=list(Set)\n",
    "\n",
    "print(''.join(lst_final))"
   ]
  },
  {
   "cell_type": "code",
   "execution_count": 6,
   "metadata": {},
   "outputs": [
    {
     "name": "stdout",
     "output_type": "stream",
     "text": [
      "230\n",
      "170\n",
      "310\n",
      "217\n",
      "6\n",
      "12\n",
      "11\n",
      "7\n",
      "8\n",
      "3 52\n"
     ]
    }
   ],
   "source": [
    "import math\n",
    "h=int(input())\n",
    "up_P=int(input())\n",
    "straight_P=int(input())\n",
    "down_P=int(input())\n",
    "s1=int(input())\n",
    "s2=int(input())\n",
    "s3=int(input())\n",
    "s4=int(input())\n",
    "s5=int(input())\n",
    "Time=h/s4+h/s5+2*(up_P/s1+straight_P/s3+down_P/s2)\n",
    "x=Time/60\n",
    "t=math.modf(x)\n",
    "print(int(t[1]),math.ceil(t[0]*100),sep=' ')"
   ]
  },
  {
   "cell_type": "code",
   "execution_count": 1,
   "metadata": {},
   "outputs": [
    {
     "name": "stdout",
     "output_type": "stream",
     "text": [
      "149.1969696969697\n"
     ]
    }
   ],
   "source": [
    "print(2*(170/6+310/11+217/12))"
   ]
  },
  {
   "cell_type": "code",
   "execution_count": 22,
   "metadata": {},
   "outputs": [
    {
     "name": "stdout",
     "output_type": "stream",
     "text": [
      "[[1, 1], [2, 2], [3, 3], [4], [5, 5]]\n"
     ]
    }
   ],
   "source": [
    "lst=[1, 3, 5, 1, 3, 2, 5, 4, 2]\n",
    "L=[]\n",
    "Set=set(lst)\n",
    "for i in Set:\n",
    "    a=[]\n",
    "    for j in range(lst.count(i)):\n",
    "        a.append(i)\n",
    "    L.append(a)\n",
    "print(L)\n",
    "\n",
    "\n"
   ]
  },
  {
   "cell_type": "code",
   "execution_count": 7,
   "metadata": {},
   "outputs": [
    {
     "name": "stdout",
     "output_type": "stream",
     "text": [
      "3\n",
      "3\n",
      "4 5 7\n",
      "1 9 11\n",
      "12 3 2\n",
      "2\n",
      "2\n",
      "15 5 \n",
      "11 2\n",
      "4 0 7 \n",
      "1 9 0 \n",
      "12 3 0 \n"
     ]
    }
   ],
   "source": [
    "r1=int(input())\n",
    "c1=int(input())\n",
    "M1=[]\n",
    "for i in range(r1):\n",
    "    x=list(map(int,input().split()))\n",
    "    M1.append(x)\n",
    "r2=int(input())\n",
    "c2=int(input())\n",
    "M2=[]\n",
    "for i in range(r2):\n",
    "    y=list(map(int,input().split()))\n",
    "    M2.append(y)\n",
    "\n",
    "M3=M1\n",
    "for i in range(len(M1)):\n",
    "    for j in range(len(M1[i])):\n",
    "        for k in M2:\n",
    "            if M1[i][j] in k:\n",
    "                M3[i][j]=0\n",
    "for row in M3:\n",
    "    for k in row:\n",
    "        print(k,end=' ')\n",
    "    print()\n"
   ]
  },
  {
   "cell_type": "code",
   "execution_count": 16,
   "metadata": {},
   "outputs": [
    {
     "name": "stdout",
     "output_type": "stream",
     "text": [
      "10668\n",
      "beautiful\n"
     ]
    }
   ],
   "source": [
    "n=int(input())\n",
    "cute=[]\n",
    "i=1\n",
    "while len(str(i))<=len(str(n)):\n",
    "    if '0' not in str(i) and '1' not in str(i) and '2' not in str(i) and '3' not in str(i) and '4' not in str(i) and '5' not in str(i) and '6' not in str(i) and '7' not in str(i):\n",
    "        cute.append(i)\n",
    "    i+=1\n",
    "\n",
    "\n",
    "for j in cute:\n",
    "    if n%j==0:\n",
    "        print('beautiful')\n",
    "        break\n",
    "    elif n%j!=0 and cute.index(j)==len(cute)-1:\n",
    "        print(-1)\n",
    "        break"
   ]
  },
  {
   "cell_type": "code",
   "execution_count": 26,
   "metadata": {},
   "outputs": [
    {
     "name": "stdout",
     "output_type": "stream",
     "text": [
      "10668\n",
      "beautiful\n"
     ]
    }
   ],
   "source": [
    "import itertools\n",
    "n=int(input())\n",
    "cute=[]\n",
    "for i in range(1,len(str(n))+1):\n",
    "    for j in list(itertools.product('89',repeat=i)):\n",
    "        cute.append(int(''.join(j)))\n",
    "\n",
    "for j in cute:\n",
    "    if n%j==0:\n",
    "        print('beautiful')\n",
    "        break\n",
    "    elif n%j!=0 and cute.index(j)==len(cute)-1:\n",
    "        print(-1)\n",
    "        break"
   ]
  },
  {
   "cell_type": "code",
   "execution_count": 27,
   "metadata": {},
   "outputs": [
    {
     "name": "stdout",
     "output_type": "stream",
     "text": [
      "10668\n",
      "beautiful\n"
     ]
    }
   ],
   "source": [
    "import itertools\n",
    "n=int(input())\n",
    "ans=-1\n",
    "for i in range(1,len(str(n))+1):\n",
    "    for j in [int(''.join(k)) for k in list(itertools.product('89',repeat=i))]:\n",
    "        if n%j==0:\n",
    "            ans='beautiful'\n",
    "            break\n",
    "print(ans)"
   ]
  },
  {
   "cell_type": "code",
   "execution_count": 20,
   "metadata": {},
   "outputs": [
    {
     "name": "stdout",
     "output_type": "stream",
     "text": [
      "1\n",
      "abbaab\n",
      "NO\n"
     ]
    }
   ],
   "source": [
    "T=int(input())\n",
    "lst=[]\n",
    "for i in range(T):\n",
    "    x=input().lower()\n",
    "    lst.append(x)\n",
    "\n",
    "for ele in lst:\n",
    "    if len(ele)%2==0:\n",
    "        a=ele[0:len(ele)//2]\n",
    "        b=ele[len(ele)//2:]\n",
    "        ans='YES'\n",
    "        for i in a:\n",
    "            if i not in b:\n",
    "                ans='NO'\n",
    "                break\n",
    "            else:\n",
    "                if a.count(i)==b.count(i):\n",
    "                    ans='YES'\n",
    "                else:\n",
    "                    ans='NO'\n",
    "    else:\n",
    "        a=ele[0:len(ele)//2]\n",
    "        b=ele[len(ele)//2+1:]\n",
    "        ans='YES'\n",
    "        for i in a:\n",
    "            if i not in b:\n",
    "                ans='NO'\n",
    "                break\n",
    "            else:\n",
    "                if a.count(i)==b.count(i):\n",
    "                    ans='YES'\n",
    "                else:\n",
    "                    ans='NO'\n",
    "    print(ans)\n",
    "            \n",
    "        "
   ]
  },
  {
   "cell_type": "code",
   "execution_count": 23,
   "metadata": {},
   "outputs": [
    {
     "name": "stdout",
     "output_type": "stream",
     "text": [
      "['a', 'b', 'c']\n"
     ]
    }
   ],
   "source": [
    "x='abcdabe'\n",
    "print(sorted(x[0:len(x)//2]))"
   ]
  },
  {
   "cell_type": "code",
   "execution_count": 7,
   "metadata": {},
   "outputs": [
    {
     "name": "stdout",
     "output_type": "stream",
     "text": [
      "1\n",
      "rotor\n",
      "YES\n"
     ]
    }
   ],
   "source": [
    "T=int(input())\n",
    "lst=[]\n",
    "for i in range(T):\n",
    "    x=input().lower()\n",
    "    lst.append(x)\n",
    "\n",
    "for ele in lst:\n",
    "    n=len(ele)//2\n",
    "    a=sorted(ele[0:n])\n",
    "    b=sorted(ele[-n:])\n",
    "    if a==b:\n",
    "        print('YES')\n",
    "    else:\n",
    "        print('NO')"
   ]
  },
  {
   "cell_type": "code",
   "execution_count": 9,
   "metadata": {},
   "outputs": [
    {
     "name": "stdout",
     "output_type": "stream",
     "text": [
      "1222311\n",
      "(1, 1) (3, 2) (1, 3) (2, 1) "
     ]
    }
   ],
   "source": [
    "import itertools\n",
    "S=input()\n",
    "lst=[]\n",
    "for i,j in itertools.groupby(S):\n",
    "    lst.append({i:list(j)})\n",
    "\n",
    "for row in lst:\n",
    "    for l in row:\n",
    "        print((row[l].count(l),int(l)),end=' ')\n",
    "    "
   ]
  },
  {
   "cell_type": "code",
   "execution_count": 13,
   "metadata": {},
   "outputs": [
    {
     "name": "stdout",
     "output_type": "stream",
     "text": [
      "5\n",
      "1\n",
      "121\n",
      "12321\n",
      "1234321\n",
      "123454321\n"
     ]
    }
   ],
   "source": [
    "for i in range(1,int(input())+1):\n",
    "    print((((10**i)-1)//9)**2)"
   ]
  },
  {
   "cell_type": "code",
   "execution_count": 4,
   "metadata": {},
   "outputs": [
    {
     "name": "stdout",
     "output_type": "stream",
     "text": [
      "Counter({3: 3, 4: 3, 1: 2, 2: 2, 5: 1, 6: 1, 7: 1})\n"
     ]
    }
   ],
   "source": [
    "import collections\n",
    "x=[1,1,2,2,3,3,3,4,4,4,5,6,7]\n",
    "print(collections.Counter(x))"
   ]
  },
  {
   "cell_type": "code",
   "execution_count": 15,
   "metadata": {},
   "outputs": [
    {
     "name": "stdout",
     "output_type": "stream",
     "text": [
      "8 1\n",
      "100 10\n",
      "NO\n"
     ]
    }
   ],
   "source": [
    "IM=list(map(int,input().split()))\n",
    "Dragon=[]\n",
    "for i in range(IM[1]):\n",
    "    row=list(map(int,input().split()))\n",
    "    Dragon.append([row[0],row[1]])\n",
    "Dragon.sort()\n",
    "ans='YES'\n",
    "while len(Dragon)>0:\n",
    "    x=Dragon.pop(0)\n",
    "    if IM[0]<x[0]:\n",
    "        ans='NO'\n",
    "        break\n",
    "    elif IM[0]>x[0]:\n",
    "        IM[0]+=x[1]\n",
    "        ans='YES'\n",
    "print(ans)\n",
    "    \n",
    "\n",
    "\n",
    "    \n",
    "\n",
    "    \n",
    "            \n",
    "        \n",
    "    "
   ]
  },
  {
   "cell_type": "code",
   "execution_count": 35,
   "metadata": {},
   "outputs": [
    {
     "name": "stdout",
     "output_type": "stream",
     "text": [
      "['#FFFFFF', '#abc']\n"
     ]
    }
   ],
   "source": [
    "import re\n",
    "x='color: #FFFFFF; font-size:123px; background-color: #abc;'\n",
    "print(re.findall('#{1}[0-9 or A-F or a-f]{3,6}',x))\n"
   ]
  },
  {
   "cell_type": "code",
   "execution_count": 37,
   "metadata": {},
   "outputs": [
    {
     "name": "stdout",
     "output_type": "stream",
     "text": [
      "4\n",
      "#ABC\n",
      "{\n",
      "  color: #FFFFFF; font-size:123px; background-color: #abc;'\n",
      "}\n",
      "#FFFFFF\n",
      "#abc\n"
     ]
    }
   ],
   "source": [
    "import re\n",
    "N=int(input())\n",
    "lst=[]\n",
    "for i in range(N):\n",
    "    line=input()\n",
    "    lst.append(line)\n",
    "    \n",
    "for line in lst:\n",
    "    if re.match('#',line):\n",
    "        continue\n",
    "    else:\n",
    "        x=re.findall('#{1}[0-9 or A-F or a-f]{3,6}',line)\n",
    "        for i in x:\n",
    "            print(i)"
   ]
  },
  {
   "cell_type": "code",
   "execution_count": 50,
   "metadata": {},
   "outputs": [
    {
     "name": "stdout",
     "output_type": "stream",
     "text": [
      "3\n",
      "4567890123456789\n",
      "5678-1234-7890-1357\n",
      "1029384756293847\n",
      "Valid\n",
      "Valid\n",
      "Invalid\n"
     ]
    }
   ],
   "source": [
    "import re\n",
    "N=int(input())\n",
    "ans='Invalid'\n",
    "lst=[]\n",
    "for i in range(N):\n",
    "    x=input()\n",
    "    lst.append(x)\n",
    "\n",
    "for j in lst:\n",
    "    if re.match('[4-6]{1}[0-9]{15}$',j) or re.match('[4-6]{1}[0-9]{3}-[0-9]{4}-[0-9]{4}-[0-9]{4}$',j):\n",
    "        if re.search()\n",
    "        \n",
    "        \n",
    "    else:\n",
    "        ans='Invalid'\n",
    "    print(ans)"
   ]
  },
  {
   "cell_type": "code",
   "execution_count": 73,
   "metadata": {},
   "outputs": [
    {
     "name": "stdout",
     "output_type": "stream",
     "text": [
      "5\n",
      "[0, 1, 1, 2, 3]\n"
     ]
    }
   ],
   "source": [
    "n=int(input())\n",
    "a=0\n",
    "b=1\n",
    "lst=[]\n",
    "lst.append(a)\n",
    "lst.append(b)\n",
    "for i in range(n-2):\n",
    "    c=a+b\n",
    "    a,b=b,c\n",
    "    lst.append(c)\n",
    "print(lst)"
   ]
  },
  {
   "cell_type": "code",
   "execution_count": 80,
   "metadata": {},
   "outputs": [
    {
     "name": "stdout",
     "output_type": "stream",
     "text": [
      "[]\n"
     ]
    }
   ],
   "source": [
    "def fibonacci(n):\n",
    "    if n!=1 and n!=0:\n",
    "        a=0\n",
    "        b=1\n",
    "        lst=[]\n",
    "        lst.append(a)\n",
    "        lst.append(b)\n",
    "        for i in range(n-2):\n",
    "            c=a+b\n",
    "            a,b=b,c\n",
    "            lst.append(c)\n",
    "        return lst\n",
    "    elif n==0:\n",
    "        return []\n",
    "    elif n==1:\n",
    "        return [0]\n",
    "\n",
    "cube=lambda x:x**3\n",
    "print(list(map(cube,fibonacci(0))))\n"
   ]
  },
  {
   "cell_type": "code",
   "execution_count": 88,
   "metadata": {},
   "outputs": [
    {
     "name": "stdout",
     "output_type": "stream",
     "text": [
      "4567890\n",
      "4432100\n"
     ]
    }
   ],
   "source": [
    "\n",
    "N=int(input())\n",
    "n=str(N)\n",
    "x=[]\n",
    "if n[0]!='9':\n",
    "    if 9-int(n[0])<int(n[0]):\n",
    "        x.append(str(9-int(n[0])))\n",
    "    else:\n",
    "        x.append(n[0])\n",
    "    \n",
    "    for i in n[1:]:\n",
    "        if 9-int(i)<int(i):\n",
    "            x.append(str(9-int(i)))\n",
    "        else:\n",
    "            x.append(i)\n",
    "\n",
    "else:\n",
    "    x.append('9')\n",
    "    for i in n[1:]:\n",
    "        if 9-int(i)<int(i):\n",
    "            x.append(str(9-int(i)))\n",
    "        else:\n",
    "            x.append(i)\n",
    "print(''.join(x))\n",
    "    \n",
    "    \n",
    "        "
   ]
  },
  {
   "cell_type": "code",
   "execution_count": 6,
   "metadata": {},
   "outputs": [
    {
     "name": "stdout",
     "output_type": "stream",
     "text": [
      "[[ 2  4  6]\n",
      " [ 8 10 12]\n",
      " [14 16 18]]\n",
      "[[ 2  8 14]\n",
      " [ 4 10 16]\n",
      " [ 6 12 18]]\n"
     ]
    }
   ],
   "source": [
    "import numpy\n",
    "lst=[2,4,6,8,10,12,14,16,18]\n",
    "arr=numpy.array(lst)\n",
    "print(numpy.reshape(arr,(3,3)))\n",
    "x=numpy.reshape(arr,(3,3))\n",
    "print(numpy.transpose(x))"
   ]
  },
  {
   "cell_type": "code",
   "execution_count": 29,
   "metadata": {},
   "outputs": [
    {
     "name": "stdout",
     "output_type": "stream",
     "text": [
      "abcdefgh\n",
      "3\n",
      "abc\n",
      "def\n",
      "gh\n",
      " \n"
     ]
    }
   ],
   "source": [
    "import textwrap\n",
    "def merge_the_tools(string, k):\n",
    "    \n",
    "    lst=textwrap.wrap(string,k)\n",
    "    L=[]\n",
    "    for ele in lst:\n",
    "        x=''\n",
    "        for j in ele:\n",
    "            if j not in x:\n",
    "                x+=j\n",
    "        L.append(x)\n",
    "    \n",
    "    for word in L:\n",
    "        print(word)\n",
    "    return ' '\n",
    "\n",
    "string=input()\n",
    "k=int(input())\n",
    "print(merge_the_tools(string,k))"
   ]
  },
  {
   "cell_type": "code",
   "execution_count": 82,
   "metadata": {},
   "outputs": [
    {
     "name": "stdout",
     "output_type": "stream",
     "text": [
      "aabbcccde\n",
      "c 3\n",
      "a 2\n",
      "b 2\n"
     ]
    }
   ],
   "source": [
    "import collections\n",
    "s=input()\n",
    "chr_count=collections.Counter(s)\n",
    "sorted_chr_count=sorted(chr_count.items())\n",
    "sorted_reverse=sorted(sorted_chr_count,reverse=True,key=lambda x:x[1])\n",
    "\n",
    "for i in range(3):\n",
    "    print(sorted_reverse[i][0],sorted_reverse[i][1])\n"
   ]
  },
  {
   "cell_type": "code",
   "execution_count": 99,
   "metadata": {},
   "outputs": [
    {
     "name": "stdout",
     "output_type": "stream",
     "text": [
      "132 456 Wq  m e\n",
      "132 456 Wq  M E "
     ]
    }
   ],
   "source": [
    "n=input()\n",
    "list1=n.split(' ')\n",
    "for i in list1:\n",
    "    print(i.capitalize(),end=' ')"
   ]
  },
  {
   "cell_type": "code",
   "execution_count": 100,
   "metadata": {},
   "outputs": [
    {
     "name": "stdout",
     "output_type": "stream",
     "text": [
      "aacd\n",
      "['aacd', 'acda', 'cdaa', 'daac']\n",
      "{'aacd', 'acda', 'cdaa', 'daac'}\n"
     ]
    }
   ],
   "source": [
    "import functools\n",
    "s=input()\n",
    "lst=[]\n",
    "L=list(s)\n",
    "\n",
    "for i in range(len(L)):\n",
    "        lst.append(s[i:]+s[:i])\n",
    "x=set(lst)\n",
    "print(len(x))   \n"
   ]
  },
  {
   "cell_type": "code",
   "execution_count": 2,
   "metadata": {},
   "outputs": [
    {
     "name": "stdout",
     "output_type": "stream",
     "text": [
      "5\n",
      "2 3 3 2 1\n",
      "3\n"
     ]
    }
   ],
   "source": [
    "n=int(input())\n",
    "groups=list(map(int,input().split()))\n",
    "cabs=0\n",
    "groups.sort()\n",
    "\n",
    "while len(groups)>1:\n",
    "    Sum=groups[0]+groups[-1]\n",
    "    if Sum==4:\n",
    "        groups.pop(0)\n",
    "        groups.pop(-1)\n",
    "        cabs+=1\n",
    "    elif Sum>4:\n",
    "        groups.pop(-1)\n",
    "        cabs+=1\n",
    "    else:\n",
    "        groups.append(groups.pop(0)+groups.pop(-1))\n",
    "if len(groups)>0:\n",
    "    cabs+=1\n",
    "print(cabs)\n",
    "                "
   ]
  },
  {
   "cell_type": "code",
   "execution_count": 14,
   "metadata": {},
   "outputs": [
    {
     "name": "stdout",
     "output_type": "stream",
     "text": [
      "97\n",
      "98\n",
      "99\n",
      "120\n",
      "121\n",
      "122\n"
     ]
    }
   ],
   "source": [
    "print(ord('a'))\n",
    "print(ord('b'))\n",
    "print(ord('c'))\n",
    "print(ord('x'))\n",
    "print(ord('y'))\n",
    "print(ord('z'))"
   ]
  },
  {
   "cell_type": "code",
   "execution_count": 16,
   "metadata": {},
   "outputs": [
    {
     "name": "stdout",
     "output_type": "stream",
     "text": [
      "elephant\n",
      "z\n",
      "No\n"
     ]
    }
   ],
   "source": [
    "s=input()\n",
    "ch=input()\n",
    "ch_count=s.count(ch)\n",
    "if ch_count==0:\n",
    "    print('No')\n",
    "else:\n",
    "    Sum=0\n",
    "    for i in range(len(s)):\n",
    "        if s[i]==ch:\n",
    "            Sum+=i\n",
    "if ch_count%2==0 and Sum%2==0:\n",
    "    print('even-even')\n",
    "elif ch_count%2==0 and Sum%2!=0:\n",
    "    print('even-odd')\n",
    "elif ch_count%2!=0 and Sum%2!=0:\n",
    "    print('odd-odd')\n",
    "elif ch_count%2!=0 and Sum%2==0:\n",
    "    print('odd-even')    \n",
    "    \n",
    "    \n",
    "        "
   ]
  },
  {
   "cell_type": "code",
   "execution_count": 10,
   "metadata": {},
   "outputs": [
    {
     "name": "stdout",
     "output_type": "stream",
     "text": [
      "10\n",
      "amey\n",
      "dhft\n",
      "['amey', 'dhft', 'bifu', 'ejgv', 'ckgw', 'flhx', 'dmhy', 'gniz', 'eoia{', 'hpjb']\n",
      "hpjb\n"
     ]
    }
   ],
   "source": [
    "S1=input()\n",
    "S2=input()\n",
    "n=int(input())\n",
    "lst1=list(S1)\n",
    "lst2=list(S2)\n",
    "L=[]\n",
    "L.append(S1)\n",
    "L.append(S2)\n",
    "\n",
    "\n",
    "for i in range(n-2):\n",
    "    lst3=[]\n",
    "    for j in range(len(S1)):\n",
    "        if (j+1)%2==0:\n",
    "            if lst2[j]=='z':\n",
    "                lst3.insert(j,'a')\n",
    "            else:\n",
    "                lst3.append(chr(ord(lst2[j])+1))\n",
    "        elif (j+1)%2!=0:\n",
    "            \n",
    "            if lst1[j]=='z':\n",
    "                lst3.insert(j,'a')\n",
    "            else:\n",
    "                lst3.append(chr(ord(lst1[j])+1))\n",
    "    lst1,lst2=lst2,lst3\n",
    "    L.append(''.join(lst3))\n",
    "\n",
    "print(L[-1])\n",
    "    \n",
    "    \n",
    "    "
   ]
  },
  {
   "cell_type": "code",
   "execution_count": null,
   "metadata": {},
   "outputs": [],
   "source": [
    "w=input()\n",
    "pre_partners=[]\n",
    "for i in range(97,110):\n",
    "    pre_partners.append(chr(i))\n",
    "\n",
    "mid=len(w)//2\n",
    "ans='Lost'\n",
    "for i,j in list(enumerate(w[0:mid])):\n",
    "    if j in pre_partners:\n",
    "        c=chr(ord(j)+13)\n",
    "        if w[i+1]==c \n",
    "\n"
   ]
  },
  {
   "cell_type": "code",
   "execution_count": 21,
   "metadata": {},
   "outputs": [
    {
     "name": "stdout",
     "output_type": "stream",
     "text": [
      "[(0, 'a'), (1, 'b'), (2, 'c'), (3, 'd'), (4, 'e')]\n"
     ]
    }
   ],
   "source": [
    "print(list(enumerate('abcde')))"
   ]
  },
  {
   "cell_type": "code",
   "execution_count": 22,
   "metadata": {},
   "outputs": [
    {
     "name": "stdout",
     "output_type": "stream",
     "text": [
      "2\n"
     ]
    }
   ],
   "source": [
    "T=int(input())\n",
    "for i in range(T):\n",
    "    k=int(input())\n"
   ]
  },
  {
   "cell_type": "code",
   "execution_count": 23,
   "metadata": {},
   "outputs": [
    {
     "name": "stdout",
     "output_type": "stream",
     "text": [
      "3\n",
      "4\n",
      "5\n",
      "6\n",
      "24\n",
      "120\n",
      "720\n"
     ]
    }
   ],
   "source": [
    "T=int(input())\n",
    "lst=[]\n",
    "for i in range(T):\n",
    "    N=int(input())\n",
    "    lst.append(N)\n",
    "\n",
    "for i in range(len(lst)):\n",
    "    a=1\n",
    "    fact=1\n",
    "    while a<=lst[i]:\n",
    "        fact*=a\n",
    "        a+=1\n",
    "    print(fact)"
   ]
  },
  {
   "cell_type": "code",
   "execution_count": 2,
   "metadata": {},
   "outputs": [
    {
     "name": "stdout",
     "output_type": "stream",
     "text": [
      "1\n",
      "\n",
      "[]\n"
     ]
    }
   ],
   "source": [
    "n=int(input())\n",
    "matrix=[]\n",
    "for i in range(n):\n",
    "    row=list(map(int,input().split()))\n",
    "    matrix.append(row)\n",
    "for i in matrix:\n",
    "    i.sort()\n",
    "    \n",
    "S=[]\n",
    "for j in matrix:\n",
    "    S+=j\n",
    "    \n",
    "S.sort()\n",
    "print(S)\n"
   ]
  },
  {
   "cell_type": "code",
   "execution_count": 6,
   "metadata": {},
   "outputs": [
    {
     "name": "stdout",
     "output_type": "stream",
     "text": [
      "1\n",
      "3\n",
      "2 4 5\n",
      "[(2, 4), (2, 5), (4, 5)]\n"
     ]
    }
   ],
   "source": [
    "import itertools\n",
    "import numpy\n",
    "T=int(input())\n",
    "for i in range(T):\n",
    "    n=int(input())\n",
    "    pts=list(map(int,input().split()))\n",
    "\n",
    "    \n",
    "\n"
   ]
  },
  {
   "cell_type": "code",
   "execution_count": 8,
   "metadata": {},
   "outputs": [
    {
     "name": "stdout",
     "output_type": "stream",
     "text": [
      "[(2, 1), (2, 4), (1, 4)]\n"
     ]
    }
   ],
   "source": [
    "print(list(itertools.combinations([2,1,4],2)))"
   ]
  },
  {
   "cell_type": "code",
   "execution_count": 38,
   "metadata": {},
   "outputs": [
    {
     "name": "stdout",
     "output_type": "stream",
     "text": [
      "3 3\n",
      "1 2 3 \n",
      "4 5 6 \n",
      "7 8 9 \n"
     ]
    }
   ],
   "source": [
    "dim=list(map(int,input().split()))\n",
    "matrix=[]\n",
    "for i in range(dim[0]):\n",
    "        row=[]\n",
    "        for j in range(dim[1]*i+1,dim[1]*i+dim[1]+1):\n",
    "            row.append(j)\n",
    "        matrix.append(row)\n",
    "for row in matrix:\n",
    "    for k in row:\n",
    "        print(k,end=' ')\n",
    "    print()\n",
    "            \n",
    "    "
   ]
  },
  {
   "cell_type": "code",
   "execution_count": 32,
   "metadata": {},
   "outputs": [
    {
     "name": "stdout",
     "output_type": "stream",
     "text": [
      "3\n",
      "0 2 3\n",
      "-2 0 8\n",
      "-3 -8 0\n",
      "skew-symmtric\n"
     ]
    }
   ],
   "source": [
    "n=int(input())\n",
    "matrix=[]\n",
    "for i in range(n):\n",
    "    row=list(map(int,input().split()))\n",
    "    matrix.append(row)\n",
    "a=0\n",
    "b=0\n",
    "for i in range(len(matrix)):\n",
    "    for j in range(len(matrix[i])):\n",
    "        if matrix[i][j]==matrix[j][i]:\n",
    "            a=1\n",
    "        elif matrix[i][j]==-matrix[j][i]:\n",
    "            a=2\n",
    "            break\n",
    "\n",
    "for i in range(len(matrix)):\n",
    "    for j in range(len(matrix[i])):\n",
    "        if matrix[i][j]==-matrix[j][i]:\n",
    "            b=1\n",
    "        elif matrix[i][j]!=-matrix[j][i]:\n",
    "            b=2\n",
    "            break\n",
    "            \n",
    "if a==1:\n",
    "    print('symmtric')\n",
    "elif b==1:\n",
    "    print('skew-symmtric')\n",
    "elif a==2 and b==2:\n",
    "    print('neither')\n"
   ]
  },
  {
   "cell_type": "code",
   "execution_count": 7,
   "metadata": {},
   "outputs": [
    {
     "name": "stdout",
     "output_type": "stream",
     "text": [
      "ccag\n",
      "3\n",
      "cag\n",
      "cag\n",
      "cca\n",
      "ccg\n"
     ]
    }
   ],
   "source": [
    "import itertools\n",
    "d=input()\n",
    "k=int(input())\n",
    "x=list(itertools.combinations(d,k))\n",
    "lst=[]\n",
    "for i in x:\n",
    "    lst.append(''.join(i))\n",
    "lst.sort()\n",
    "for dna in lst:\n",
    "    print(dna)\n"
   ]
  },
  {
   "cell_type": "code",
   "execution_count": 13,
   "metadata": {},
   "outputs": [
    {
     "name": "stdout",
     "output_type": "stream",
     "text": [
      "HACK 2\n",
      "AA\n",
      "AC\n",
      "AH\n",
      "AK\n",
      "CC\n",
      "CH\n",
      "CK\n",
      "HH\n",
      "HK\n",
      "KK\n"
     ]
    }
   ],
   "source": [
    "import itertools\n",
    "value=list(map(str,input().split()))\n",
    "L=list(value[0])\n",
    "L.sort()\n",
    "val=''.join(L)\n",
    "lst=[''.join(i) for i in list(itertools.combinations_with_replacement(val,int(value[1])))]\n",
    "for i in lst:\n",
    "    print(i)"
   ]
  },
  {
   "cell_type": "code",
   "execution_count": 18,
   "metadata": {},
   "outputs": [
    {
     "name": "stdout",
     "output_type": "stream",
     "text": [
      "4\n",
      "a a c d\n",
      "2\n",
      "0.8333\n"
     ]
    }
   ],
   "source": [
    "import itertools\n",
    "N=int(input())\n",
    "letters=list(map(str,input().split()))\n",
    "K=int(input())\n",
    "lst=[]\n",
    "for i in range(len(letters)):\n",
    "    lst.append(i+1)\n",
    "lst_final=list(itertools.combinations(lst,K))\n",
    "l1=[]\n",
    "for i in range(len(letters)):\n",
    "    if letters[i]=='a':\n",
    "        l1.append(i+1)\n",
    "l2=[]\n",
    "for x in l1:\n",
    "    for ele in lst_final:\n",
    "        if x in ele:\n",
    "            l2.append(ele)\n",
    "Set=set(l2)\n",
    "prob=len(Set)/len(lst_final)\n",
    "print('{:0.4f}'.format(prob))\n"
   ]
  },
  {
   "cell_type": "code",
   "execution_count": 26,
   "metadata": {},
   "outputs": [
    {
     "name": "stdout",
     "output_type": "stream",
     "text": [
      "3\n",
      "3\n",
      "3\n",
      "5\n",
      "3 5 3\n",
      "3 3 3\n",
      "3 5 5\n",
      "3\n",
      "2 1\n"
     ]
    }
   ],
   "source": [
    "import copy\n",
    "m=int(input())\n",
    "n=int(input())\n",
    "p=int(input())\n",
    "q=int(input())\n",
    "matrix=[]\n",
    "for i in range(m):\n",
    "    kids=list(map(int,input().split()))\n",
    "    matrix.append(kids)\n",
    "l=int(input())\n",
    "matrix_final=copy.deepcopy(matrix)\n",
    "if l==p:\n",
    "    for i in range(m):\n",
    "        for j in range(len(matrix[i])):\n",
    "            column=[matrix[a][j] for a in range(m)]\n",
    "            if matrix[i][j]==p:\n",
    "                if q in matrix[i] or q in column:\n",
    "                    matrix_final[i][j]=q\n",
    "                else:\n",
    "                    matrix_final[i][j]=p\n",
    "            \n",
    "elif l==q:\n",
    "    for i in range(m):\n",
    "        for j in range(len(matrix[i])):\n",
    "            column=[matrix[a][j] for a in range(m)]\n",
    "            if matrix[i][j]==q:\n",
    "                if p in matrix[i] or p in column:\n",
    "                    matrix_final[i][j]=p\n",
    "                else:\n",
    "                    matrix_final[i][j]=q\n",
    "           \n",
    "            \n",
    "        \n",
    "winners=[]\n",
    "for i in range(m):\n",
    "    for j in range(len(matrix_final[i])):\n",
    "        if matrix_final[i][j]==l:\n",
    "            winners.append((i+1,j+1))\n",
    "if len(winners)>0:\n",
    "    for x in winners:\n",
    "        print(x[0],x[1])\n",
    "else:\n",
    "    print('No winner')\n",
    "        "
   ]
  },
  {
   "cell_type": "code",
   "execution_count": 9,
   "metadata": {},
   "outputs": [
    {
     "name": "stdout",
     "output_type": "stream",
     "text": [
      "5\n",
      "{1: [1], 3: [1, 3], 6: [1, 2, 3, 6], 10: [1, 2, 5, 10], 15: [1, 3, 5, 15]}\n"
     ]
    }
   ],
   "source": [
    "n=int(input())\n",
    "def func(x):\n",
    "    l=[]\n",
    "    for i in range(1,x+1):\n",
    "        if x%i==0:\n",
    "            l.append(i)\n",
    "    return l\n",
    "\n",
    "dic={}\n",
    "lst=[]\n",
    "a=1\n",
    "lst.append(a)\n",
    "for i in range(2,n+1):\n",
    "    c=a+i\n",
    "    a=c\n",
    "    lst.append(c)\n",
    "for k in lst:\n",
    "    dic[k]=func(k)\n",
    "    \n",
    "print(dic)    "
   ]
  },
  {
   "cell_type": "code",
   "execution_count": 20,
   "metadata": {
    "scrolled": true
   },
   "outputs": [
    {
     "name": "stdout",
     "output_type": "stream",
     "text": [
      "3\n",
      "1\n",
      "2\n",
      "3\n",
      "9\n"
     ]
    }
   ],
   "source": [
    "n=int(input())\n",
    "pipes=[]\n",
    "for i in range(n):\n",
    "    l=int(input())\n",
    "    pipes.append(l)\n",
    "pipes.sort()\n",
    "cost=0\n",
    "while len(pipes)>1:\n",
    "    pipe1=pipes.pop(0)\n",
    "    pipe2=pipes.pop(0)\n",
    "    cost+=(pipe1+pipe2)\n",
    "    pipes.append(pipe1+pipe2)\n",
    "\n",
    "if n>1:\n",
    "    print(cost)\n",
    "else:\n",
    "    print(pipes[0])\n",
    "    \n",
    "\n",
    "    \n",
    "\n",
    "    \n"
   ]
  },
  {
   "cell_type": "code",
   "execution_count": 1,
   "metadata": {},
   "outputs": [
    {
     "name": "stdout",
     "output_type": "stream",
     "text": [
      "5\n",
      "2\n",
      "4\n",
      "3\n",
      "1\n",
      "5\n",
      "33\n"
     ]
    }
   ],
   "source": [
    "import queue\n",
    "n=int(input())\n",
    "pipes=queue.PriorityQueue()\n",
    "for i in range(n):\n",
    "    pipes.put(int(input()))\n",
    "cost=0\n",
    "while pipes.qsize()>1:\n",
    "    pipe1=pipes.get()\n",
    "    pipe2=pipes.get()\n",
    "    cost+=(pipe1+pipe2)\n",
    "    pipes.put(pipe1+pipe2)\n",
    "\n",
    "print(cost)"
   ]
  },
  {
   "cell_type": "code",
   "execution_count": 29,
   "metadata": {},
   "outputs": [
    {
     "name": "stdout",
     "output_type": "stream",
     "text": [
      "1 2 3 4 5\n",
      "2\n",
      "[3, 4, 5, 1, 2]\n"
     ]
    }
   ],
   "source": [
    "x=list(map(int,input().split()))\n",
    "\n",
    "d=int(input())\n",
    "def rotate1(lst):\n",
    "    copied=lst.copy()\n",
    "    temp=lst[0]\n",
    "    for i in range(len(copied)-1):\n",
    "        copied[i]=copied[i+1]\n",
    "    copied[len(lst)-1]=temp\n",
    "    return copied\n",
    "\n",
    "for i in range(d):\n",
    "    a=rotate1(x)\n",
    "    x=a\n",
    "print(x)\n",
    "    \n",
    "\n",
    "\n",
    "    "
   ]
  },
  {
   "cell_type": "code",
   "execution_count": 7,
   "metadata": {},
   "outputs": [
    {
     "name": "stdout",
     "output_type": "stream",
     "text": [
      "2\n",
      "veggies\n",
      "pulses roots greens\n",
      "pulses beans peas\n",
      "None\n",
      "greens cabbage spinach\n",
      "colors\n",
      "purple red green\n",
      "purple lavender violet\n",
      "None\n",
      "None\n",
      "veggies\n",
      "greens\n",
      "spinach\n",
      "Taxonomy present\n"
     ]
    }
   ],
   "source": [
    "n=int(input())\n",
    "superdic={}\n",
    "for i in range(n):\n",
    "    dic={}\n",
    "    taxonomy=input()\n",
    "    level1=list(map(str,input().split()))\n",
    "    for j in range(len(level1)):\n",
    "        level2=list(map(str,input().split()))\n",
    "        dic[level1[j]]=level2\n",
    "    superdic[taxonomy]=dic\n",
    "p=input()\n",
    "l1=input()\n",
    "l2=input()\n",
    "if p in superdic.keys()\n",
    "        if l1 in superdic[p]:\n",
    "            if l2 in superdic[p][l1]:\n",
    "                print('Taxonomy present')\n",
    "            else:\n",
    "                print('Taxonomy not present')\n",
    "                \n",
    "        else:\n",
    "            print('Taxonomy not present')\n",
    "            \n",
    "    else:\n",
    "        print('Taxonomy not present')\n",
    "        \n",
    "    \n",
    "        "
   ]
  },
  {
   "cell_type": "code",
   "execution_count": null,
   "metadata": {},
   "outputs": [],
   "source": [
    "n=int(input())\n",
    "total=0\n",
    "store={}\n",
    "for i in range(n):\n",
    "    word=input()\n",
    "    time=0\n",
    "    if word in store:\n",
    "        time=store[word]//2\n",
    "    else:\n",
    "        for j in range(len(word)):\n",
    "            if j==0:\n",
    "                time+=2\n",
    "            else:\n",
    "                if (word[j-1] in 'df' and word[j] not in 'df') or (word[j-1] in 'jk' and word[j] not in 'jk'):\n",
    "                    time+=2\n",
    "                else:\n",
    "                    time+=4\n",
    "        store[word]=time\n",
    "    total+=time\n",
    "print(total)"
   ]
  },
  {
   "cell_type": "code",
   "execution_count": 1,
   "metadata": {},
   "outputs": [
    {
     "name": "stdout",
     "output_type": "stream",
     "text": [
      "alpha\n",
      "omega\n",
      "alpha\n",
      "omega\n",
      "alpha\n",
      "omega\n",
      "alpha\n",
      "omega\n",
      "alpha\n",
      "omega\n",
      "alpha\n",
      "omega\n",
      "alpha\n",
      "omega\n",
      "alpha\n",
      "alpha\n",
      "omega\n",
      "alpha\n",
      "omega\n",
      "beta\n",
      "alpha\n",
      "beta\n",
      "omega\n"
     ]
    }
   ],
   "source": [
    "customers=[]\n",
    "for i in range(20):\n",
    "    customers.append(input())\n",
    "lst=[]\n",
    "Set=set(customers)\n",
    "for co in Set:\n",
    "    if (customers.count(co)/len(customers))*100>=5:\n",
    "        lst.append(co)\n",
    "lst.sort()\n",
    "for i in lst:\n",
    "    print(i)"
   ]
  },
  {
   "cell_type": "code",
   "execution_count": 10,
   "metadata": {},
   "outputs": [
    {
     "name": "stdout",
     "output_type": "stream",
     "text": [
      "3\n",
      "del kol\n",
      "maa del\n",
      "kol goa\n",
      "{'src': ['del', 'maa', 'kol'], 'des': ['kol', 'del', 'goa']}\n"
     ]
    }
   ],
   "source": [
    "N=int(input())\n",
    "dic={'src':[],'des':[]}\n",
    "for i in range(N):\n",
    "    x=list(map(str,input().split()))\n",
    "    dic['src'].append(x[0])\n",
    "    dic['des'].append(x[1])\n",
    "print(dic)\n",
    "\n",
    "    \n",
    "\n",
    "\n",
    "        \n",
    "\n",
    "\n",
    "    "
   ]
  },
  {
   "cell_type": "code",
   "execution_count": 13,
   "metadata": {},
   "outputs": [
    {
     "name": "stdout",
     "output_type": "stream",
     "text": [
      "435\n",
      "5\n",
      "Invalid\n"
     ]
    }
   ],
   "source": [
    "n=int(input())\n",
    "b=int(input())\n",
    "s=str(n)\n",
    "ans=True\n",
    "for i in s:\n",
    "    if int(i)>(b-1):\n",
    "        ans=False\n",
    "        break\n",
    "if ans==True:\n",
    "    S=0\n",
    "    for i in s:\n",
    "        S+=(int(i)**len(s))\n",
    "    lst=[]\n",
    "    for i in range(len(s)):\n",
    "        x=S//b\n",
    "        lst.append(str(S%b))\n",
    "        S=x\n",
    "    lst.reverse()\n",
    "    if ''.join(lst)==s:\n",
    "        print('Yes')\n",
    "    else:\n",
    "        print('No')\n",
    "else:\n",
    "    print('Invalid')"
   ]
  },
  {
   "cell_type": "code",
   "execution_count": 3,
   "metadata": {},
   "outputs": [
    {
     "name": "stdout",
     "output_type": "stream",
     "text": [
      "alan 12abd hack\n",
      "Alan 12abd Hack "
     ]
    }
   ],
   "source": [
    "x=input()\n",
    "lst=x.split(' ')\n",
    "for i in lst:\n",
    "    print(i.capitalize(),end=' ')\n",
    "        \n",
    "    "
   ]
  },
  {
   "cell_type": "code",
   "execution_count": 6,
   "metadata": {},
   "outputs": [
    {
     "name": "stdout",
     "output_type": "stream",
     "text": [
      "3\n",
      "del kol\n",
      "maa del\n",
      "kol goa\n",
      "maa del kol goa\n"
     ]
    }
   ],
   "source": [
    "n=int(input())\n",
    "tickets=[input().split() for i in range(n)]\n",
    "itenary=[]\n",
    "c=0\n",
    "while len(itenary)<n+1:\n",
    "    for ele in tickets:\n",
    "        if c==0:\n",
    "            itenary+=ele\n",
    "            c=-1\n",
    "            tickets.remove(ele)\n",
    "        elif ele[0]==itenary[-1]:\n",
    "            itenary.append(ele[1])\n",
    "            tickets.remove(ele)\n",
    "        elif ele[1]==itenary[0]:\n",
    "            itenary.insert(0,ele[0])\n",
    "            tickets.remove(ele)\n",
    "print(*itenary)"
   ]
  },
  {
   "cell_type": "code",
   "execution_count": 18,
   "metadata": {},
   "outputs": [
    {
     "name": "stdout",
     "output_type": "stream",
     "text": [
      "True\n"
     ]
    }
   ],
   "source": [
    "print('My name is Rishi'.endswith('shi'))"
   ]
  },
  {
   "cell_type": "code",
   "execution_count": 12,
   "metadata": {},
   "outputs": [
    {
     "name": "stdout",
     "output_type": "stream",
     "text": [
      "6\n",
      "15\n",
      "12\n",
      "17\n",
      "32\n",
      "26\n",
      "42\n",
      "4\n",
      "45\n",
      "34\n",
      "64\n",
      "80\n",
      "[15, 45, 12, 34, 32, 80, 42]\n",
      "15 12 42 "
     ]
    }
   ],
   "source": [
    "n1=int(input())\n",
    "l1=[]\n",
    "for i in range(n1):\n",
    "    l1.append(int(input()))\n",
    "n2=int(input())\n",
    "l2=[]\n",
    "for i in range(n2):\n",
    "    l2.append(int(input()))\n",
    "\n",
    "l3=[]\n",
    "if n2<n1:\n",
    "    sub_l1=l1[n2:]\n",
    "    for i in range(n2):\n",
    "        if l1[i]%(i+1)==0:\n",
    "            if l2[i]%(i+1)==0:\n",
    "                l3.append(l1[i])\n",
    "                l3.append(l2[i])\n",
    "            else:\n",
    "                l3.append(l1[i])\n",
    "        elif l1[i]%(i+1)!=0:\n",
    "            if l2[i]%(i+1)==0:\n",
    "                 l3.append(l2[i])\n",
    "            \n",
    "                \n",
    "       \n",
    "    for j in range(len(sub_l1)):\n",
    "        if sub_l1[j]%(l1.index(sub_l1[j])+1)==0:\n",
    "            l3.append(sub_l1[j])\n",
    "elif n1<n2:\n",
    "      sub_l2=l2[n1:]\n",
    "      for i in range(n1):\n",
    "        if l2[i]%(i+1)==0:\n",
    "            if l1[i]%(i+1)==0:\n",
    "                l3.append(l1[i])\n",
    "                l3.append(l2[i])\n",
    "            else:\n",
    "                l3.append(l2[i])\n",
    "        elif l2[i]%(i+1)!=0:\n",
    "            if l1[i]%(i+1)==0:\n",
    "                 l3.append(l1[i])\n",
    "            \n",
    "      for j in range(len(sub_l2)):\n",
    "        if sub_l2[j]%(l2.index(sub_l2[j])+1)==0:\n",
    "            l3.append(sub_l2[j])\n",
    "else:\n",
    "     \n",
    "    for i in range(n2):\n",
    "        if l1[i]%(i+1)==0:\n",
    "            l3.append(l1[i])\n",
    "            if l2[i]%(i+1)==0:\n",
    "                l3.append(l2[i])\n",
    "        elif l1[i]%(i+1)==0 and l2[i]%(i+1)==0:\n",
    "            l3.append(l1[i])\n",
    "            l3.append(l2[i])\n",
    "\n",
    "\n",
    "for k in range(len(l3)):\n",
    "    if l3[k]%(k+1)==0:\n",
    "        print(l3[k],sep=' ')\n",
    "        "
   ]
  },
  {
   "cell_type": "code",
   "execution_count": 4,
   "metadata": {},
   "outputs": [
    {
     "name": "stdout",
     "output_type": "stream",
     "text": [
      "12\n",
      "45 60 82 72 65 32 53 84 103 110 89 95\n",
      "3 2\n"
     ]
    }
   ],
   "source": [
    "n=int(input())\n",
    "pts=list(map(int,input().split()))\n",
    "up=1\n",
    "down=0\n",
    "for i in range(1,len(pts)-1):\n",
    "    if pts[i+1]<pts[i]>pts[i-1]:\n",
    "        down+=1\n",
    "    elif pts[i+1]>pts[i]<pts[i-1]:\n",
    "        up+=1\n",
    "print(up,down)\n",
    "    \n"
   ]
  },
  {
   "cell_type": "code",
   "execution_count": 7,
   "metadata": {},
   "outputs": [
    {
     "name": "stdout",
     "output_type": "stream",
     "text": [
      "3\n",
      "4\n",
      "4\n",
      "4\n",
      "[[0, 0, 0, 0], [0, 0, 0, 0], [0, 0, 0, 0]]\n"
     ]
    }
   ],
   "source": [
    "r1=int(input())\n",
    "c1=int(input())\n",
    "matrix1=[]\n",
    "for i in range(r1):\n",
    "    matrix1.append(list(map(int,input().split())))\n",
    "r2=int(input())\n",
    "c2=int(input())\n",
    "matrix2=[]\n",
    "for i in range(r2):\n",
    "    matrix2.append(list(map(int,input().split())))\n",
    "C=int(input())\n",
    "m2=[[matrix2[j][i] for j in range(len(matrix2[i]))] for i in range(len(matrix2))]\n",
    "matrix3=[]\n",
    "\n",
    "for i in range(r1):\n",
    "    row=[]\n",
    "    for j in range(c1):\n",
    "        count=0\n",
    "        for x in list(zip(matrix1[i],m2[j])):\n",
    "            if sum(x)<=C:\n",
    "                count+=1\n",
    "        row.append(count)\n",
    "    matrix3.append(row)\n",
    "\n",
    "for k in matrix3:\n",
    "    for l in k:\n",
    "        print(l,end='\\t')\n",
    "    print()\n",
    "                                        "
   ]
  },
  {
   "cell_type": "code",
   "execution_count": 8,
   "metadata": {},
   "outputs": [
    {
     "name": "stdout",
     "output_type": "stream",
     "text": [
      "[(1, 4), (2, 5), (3, 6)]\n"
     ]
    }
   ],
   "source": [
    "print(list(zip([1,2,3],[4,5,6])))"
   ]
  },
  {
   "cell_type": "code",
   "execution_count": 12,
   "metadata": {},
   "outputs": [
    {
     "name": "stdout",
     "output_type": "stream",
     "text": [
      "apple\n",
      "3\n",
      "ppl\n"
     ]
    }
   ],
   "source": [
    "S=input()\n",
    "n=int(input())\n",
    "lst=[]\n",
    "for i in range(len(S)):\n",
    "    for j in range(i,len(S)):\n",
    "        lst.append(S[i:j+1])\n",
    "\n",
    "L=[]\n",
    "for i in lst:\n",
    "    if len(i)==n:\n",
    "        L.append(i)\n",
    "for ele in L:\n",
    "    ans=True\n",
    "    for j in ele:\n",
    "        if j in 'aeiou':\n",
    "            ans=False\n",
    "            break\n",
    "    if ans==True:\n",
    "        print(ele)"
   ]
  },
  {
   "cell_type": "code",
   "execution_count": 1,
   "metadata": {},
   "outputs": [
    {
     "data": {
      "text/plain": [
       "42"
      ]
     },
     "execution_count": 1,
     "metadata": {},
     "output_type": "execute_result"
    }
   ],
   "source": [
    "17^59"
   ]
  },
  {
   "cell_type": "code",
   "execution_count": 3,
   "metadata": {},
   "outputs": [
    {
     "data": {
      "text/plain": [
       "94"
      ]
     },
     "execution_count": 3,
     "metadata": {},
     "output_type": "execute_result"
    }
   ],
   "source": [
    "29^67"
   ]
  },
  {
   "cell_type": "code",
   "execution_count": 7,
   "metadata": {},
   "outputs": [
    {
     "name": "stdout",
     "output_type": "stream",
     "text": [
      "[5, 7, 5]\n"
     ]
    }
   ],
   "source": [
    "from functools import reduce\n",
    "a=[1,2,3]\n",
    "b=[4,5,6]\n",
    "print(list(map(lambda x,y:x^y,a,b)))"
   ]
  },
  {
   "cell_type": "code",
   "execution_count": null,
   "metadata": {},
   "outputs": [],
   "source": [
    "n=int(input())\n",
    "lst=list(map(int,input().split()))\n"
   ]
  },
  {
   "cell_type": "code",
   "execution_count": 10,
   "metadata": {},
   "outputs": [
    {
     "name": "stdout",
     "output_type": "stream",
     "text": [
      "3\n",
      "2 3 4\n",
      "NO\n",
      "[1]\n"
     ]
    }
   ],
   "source": [
    "n=int(input())\n",
    "lst=list(map(int,input().split()))\n",
    "common=[]\n",
    "lst.sort()\n",
    "\n",
    "for i in range(1,lst[0]+1):\n",
    "    ans=True\n",
    "    for j in lst:\n",
    "        if j%i!=0:\n",
    "            ans=False\n",
    "            break\n",
    "    if ans==True:\n",
    "        common.append(i)\n",
    "            \n",
    "    \n",
    "if len(common)==1 and 1 in common:\n",
    "    print('NO')\n",
    "else:\n",
    "    print('YES')\n",
    "\n",
    "    "
   ]
  },
  {
   "cell_type": "code",
   "execution_count": 17,
   "metadata": {},
   "outputs": [
    {
     "name": "stdout",
     "output_type": "stream",
     "text": [
      "36\n",
      "4\n",
      "[(1, 36), (2, 18), (3, 12), (4, 9)]\n"
     ]
    }
   ],
   "source": [
    "import itertools\n",
    "area=int(input())\n",
    "lst=[i for i in range(1,area+1) if area%i==0]\n",
    "L=list(itertools.combinations(lst,2))\n",
    "L1=[(i,j) for i,j in L if i*j==area]\n",
    "print(len(L1))\n",
    "print(L1)"
   ]
  },
  {
   "cell_type": "code",
   "execution_count": 19,
   "metadata": {},
   "outputs": [
    {
     "name": "stdout",
     "output_type": "stream",
     "text": [
      "234501\n",
      "WsA\n",
      "3\n"
     ]
    }
   ],
   "source": [
    "import string\n",
    "import textwrap\n",
    "lst=list(string.ascii_letters)\n",
    "for i in range(len(lst)):\n",
    "    if lst[i] in 'abcdefghijklmnopqrstuvwxyz':\n",
    "        lst[i]=chr(ord(lst[i])-32)\n",
    "    else:\n",
    "        lst[i]=chr(ord(lst[i])+32)\n",
    "\n",
    "s=input()\n",
    "w=input()\n",
    "\n",
    "l=textwrap.wrap(s,2)\n",
    "\n",
    "\n",
    "if len(s)!=(2*len(w)):\n",
    "    print(-1)\n",
    "else: \n",
    "            \n",
    "    c=0\n",
    "    for i in range(len(w)):\n",
    "        if lst.index(w[i])+1==int(l[i]):\n",
    "            c+=1\n",
    "    print(c)\n",
    "    "
   ]
  },
  {
   "cell_type": "code",
   "execution_count": null,
   "metadata": {},
   "outputs": [],
   "source": []
  }
 ],
 "metadata": {
  "kernelspec": {
   "display_name": "Python 3",
   "language": "python",
   "name": "python3"
  },
  "language_info": {
   "codemirror_mode": {
    "name": "ipython",
    "version": 3
   },
   "file_extension": ".py",
   "mimetype": "text/x-python",
   "name": "python",
   "nbconvert_exporter": "python",
   "pygments_lexer": "ipython3",
   "version": "3.8.5"
  }
 },
 "nbformat": 4,
 "nbformat_minor": 4
}
